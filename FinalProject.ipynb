{
 "cells": [
  {
   "cell_type": "markdown",
   "id": "aa78d0f9-0722-4128-8933-d50ecb755b04",
   "metadata": {},
   "source": [
    "## Name: Tridib Paul TUrjo\n",
    "## Student ID:202059523\n",
    "\n",
    "## Name: Md Jawad Ul Tazwar\n",
    "## Student ID: 202057543"
   ]
  },
  {
   "cell_type": "markdown",
   "id": "d7e43035-e185-4b12-a60f-fe399c25ab51",
   "metadata": {},
   "source": [
    "## Presentation Video link: https://youtu.be/P8wDpish9nA?si=wxdhndjjy2GaoU51"
   ]
  },
  {
   "cell_type": "code",
   "execution_count": 1,
   "id": "427319bc-2171-4c4f-8fc5-cd2977e75741",
   "metadata": {},
   "outputs": [],
   "source": [
    "import pandas as pd\n",
    "import matplotlib.pyplot as plt\n",
    "import seaborn as sns\n",
    "import ipywidgets as widgets\n",
    "import numpy as np\n",
    "from sklearn.linear_model import LinearRegression"
   ]
  },
  {
   "cell_type": "code",
   "execution_count": 2,
   "id": "53652310-9893-444a-b733-4558101f771f",
   "metadata": {},
   "outputs": [],
   "source": [
    "df = pd.read_csv('open_gym.csv')"
   ]
  },
  {
   "cell_type": "markdown",
   "id": "ed6b522d-6c8a-4bde-a050-214db7c336e1",
   "metadata": {},
   "source": [
    "# GymSight: Activity Viewer"
   ]
  },
  {
   "cell_type": "markdown",
   "id": "050610e9-ea08-4d8b-8f94-b284d5a1fd8c",
   "metadata": {},
   "source": [
    "## Seasonal & Annual Gym Trends Snapshot"
   ]
  },
  {
   "cell_type": "code",
   "execution_count": 3,
   "id": "28ef40f6-ebf1-483b-8bf7-c9277ef645c0",
   "metadata": {},
   "outputs": [],
   "source": [
    "df['open_gym_start'] = pd.to_datetime(df['open_gym_start'])\n",
    "df['quarter'] = df['open_gym_start'].dt.to_period('Q')\n",
    "df['year'] = df['open_gym_start'].dt.to_period('Y')"
   ]
  },
  {
   "cell_type": "code",
   "execution_count": 4,
   "id": "2c27ec8f-aa1a-4902-a2df-4fca98f6d112",
   "metadata": {},
   "outputs": [
    {
     "data": {
      "application/vnd.jupyter.widget-view+json": {
       "model_id": "24876e432e2340eba23365d6f07bb989",
       "version_major": 2,
       "version_minor": 0
      },
      "text/plain": [
       "interactive(children=(RadioButtons(description='Period:', layout=Layout(width='max-content'), options=(('Yearl…"
      ]
     },
     "execution_count": 4,
     "metadata": {},
     "output_type": "execute_result"
    }
   ],
   "source": [
    "def plot_trend(period='Y', facility='All'):\n",
    "    if facility == 'All':\n",
    "        filtered_df = df\n",
    "    else:\n",
    "        filtered_df = df[df['facility_title'] == facility]\n",
    "    \n",
    "    plt.figure(figsize=(10, 6))\n",
    "    \n",
    "    if period == 'Y':\n",
    "        period_totals = filtered_df.groupby('year')['total'].sum().reset_index()\n",
    "        period_totals['year'] = period_totals['year'].dt.to_timestamp()\n",
    "        sns.lineplot(data=period_totals, x='year', y='total', marker='o', linestyle='-', color='b')\n",
    "        plt.title(f'Yearly Total Participants in Open Gym Sessions ({facility})')\n",
    "        plt.xlabel('Year', size = 12)\n",
    "    else:\n",
    "        period_totals = filtered_df.groupby('quarter')['total'].sum().reset_index()\n",
    "        period_totals['quarter'] = period_totals['quarter'].dt.to_timestamp()\n",
    "        \n",
    "        quarter_mapping = {1: 'Q1', 2: 'Q2', 3: 'Q3', 4: 'Q4'}\n",
    "        period_totals['quarter_name'] = period_totals['quarter'].dt.quarter.map(quarter_mapping)\n",
    "        \n",
    "        sns.scatterplot(data=period_totals, x='quarter', y='total', hue='quarter_name', palette=['red', 'green', 'blue', 'orange'], legend='full', s=100)\n",
    "        sns.lineplot(data=period_totals, x='quarter', y='total', color='grey', linestyle='--')\n",
    "        \n",
    "        plt.title(f'Quarterly Total Participants in Open Gym Sessions ({facility})')\n",
    "        plt.xlabel('Quarter', size = 12)\n",
    "    \n",
    "    plt.gca().set_facecolor('#f0f0f0')  \n",
    "    plt.gcf().set_facecolor('#e0e0e0') \n",
    "    plt.ylabel('Total Participants', size = 12)\n",
    "    plt.grid(False)\n",
    "    plt.tight_layout()\n",
    "    plt.show()\n",
    "\n",
    "period_widget = widgets.RadioButtons(\n",
    "    options=[('Yearly', 'Y'), ('Quarterly', 'Q')],\n",
    "    value='Y',\n",
    "    description='Period:',\n",
    "    layout={'width': 'max-content'}\n",
    ")\n",
    "\n",
    "facilities_dropdown = widgets.Dropdown(\n",
    "    options=['All'] + list(df['facility_title'].unique()),\n",
    "    value='All',\n",
    "    description='Facility:',\n",
    ")\n",
    "\n",
    "dropdowns_hbox = widgets.HBox([period_widget, facilities_dropdown])\n",
    "widgets.interactive(plot_trend, period=period_widget, facility=facilities_dropdown)\n"
   ]
  },
  {
   "cell_type": "markdown",
   "id": "3de95f62-67b6-4c91-989a-e1fc2fd8318d",
   "metadata": {},
   "source": [
    "## Demographic Dynamics"
   ]
  },
  {
   "cell_type": "code",
   "execution_count": 5,
   "id": "3d8aef15-1dbe-4e03-bbc6-97e148877f41",
   "metadata": {},
   "outputs": [
    {
     "data": {
      "application/vnd.jupyter.widget-view+json": {
       "model_id": "e5cc535126bc45da8656716cda898916",
       "version_major": 2,
       "version_minor": 0
      },
      "text/plain": [
       "interactive(children=(Dropdown(description='Facility:', options=('All', 'Bond Park Community Center', 'Herbert…"
      ]
     },
     "execution_count": 5,
     "metadata": {},
     "output_type": "execute_result"
    }
   ],
   "source": [
    "df['open_gym_start'] = pd.to_datetime(df['open_gym_start'])\n",
    "facilities = ['All'] + df['facility_title'].unique().tolist()\n",
    "def plot_gender_by_facility(facility):\n",
    "    if facility != 'All':\n",
    "        df_filtered = df[df['facility_title'] == facility]\n",
    "    else:\n",
    "        df_filtered = df\n",
    "\n",
    "    gender_totals_filtered = df_filtered.groupby('year').agg({'total_females': 'sum', 'total_males': 'sum'}).reset_index()\n",
    "\n",
    "    plt.figure(figsize=(10, 6))\n",
    "    width = 0.4\n",
    "    ind = range(len(gender_totals_filtered))\n",
    "    plt.bar(ind, gender_totals_filtered['total_females'], width, label='Females', color='lightcoral', edgecolor='black')\n",
    "    plt.bar([i + width for i in ind], gender_totals_filtered['total_males'], width, label='Males', color='lightblue', edgecolor='black')\n",
    "\n",
    "    plt.ylabel('Total Participants', size = 12)\n",
    "    plt.xlabel('Year', labelpad=16, size = 12)\n",
    "    plt.title(f'Participants by Gender Over the Years ({facility})')\n",
    "    plt.xticks([i + width / 2 for i in ind], gender_totals_filtered['year'].dt.year, rotation=45)\n",
    "    plt.legend(loc='best')\n",
    "    plt.grid(True, axis='y', linestyle='--', alpha=0.7)\n",
    "    plt.tight_layout()\n",
    "    plt.show()\n",
    "\n",
    "def plot_residency_by_facility(facility):\n",
    "    if facility != 'All':\n",
    "        df_filtered = df[df['facility_title'] == facility]\n",
    "    else:\n",
    "        df_filtered = df\n",
    "\n",
    "    residency_totals_filtered = df_filtered.groupby('year').agg({'total_residents': 'sum', 'total_non_residents': 'sum'}).reset_index()\n",
    "\n",
    "    plt.figure(figsize=(10, 6))\n",
    "    width = 0.4\n",
    "    ind = range(len(residency_totals_filtered))\n",
    "    plt.bar(ind, residency_totals_filtered['total_residents'], width, label='Residents', color='cadetblue', edgecolor='black')\n",
    "    plt.bar([i + width for i in ind], residency_totals_filtered['total_non_residents'], width, label='Non-Residents', color='powderblue', edgecolor='black')\n",
    "\n",
    "    plt.ylabel('Total Participants', size = 12)\n",
    "    plt.xlabel('Year', labelpad=16, size = 12)\n",
    "    plt.title(f'Participants by Residency Over the Years ({facility})')\n",
    "    plt.xticks([i + width / 2 for i in ind], residency_totals_filtered['year'].dt.year, rotation=45)\n",
    "    plt.legend(loc='best')\n",
    "    plt.grid(True, axis='y', linestyle='--', alpha=0.7)\n",
    "    plt.tight_layout()\n",
    "    plt.show()\n",
    "\n",
    "def display_plots(facility, plot_type):\n",
    "    if plot_type == 'Gender':\n",
    "        plot_gender_by_facility(facility)\n",
    "    else:  # plot_type == 'Residency'\n",
    "        plot_residency_by_facility(facility)\n",
    "\n",
    "facility_dropdown = widgets.Dropdown(options=facilities, value='All', description='Facility:')\n",
    "plot_type = widgets.RadioButtons(options=['Gender', 'Residency'], value='Gender', description='Type:', orientation='horizontal')\n",
    "\n",
    "widgets.interactive(display_plots, facility=facility_dropdown, plot_type=plot_type)\n"
   ]
  },
  {
   "cell_type": "markdown",
   "id": "d3c2b9e5-240a-4752-ad4d-eac279189daf",
   "metadata": {},
   "source": [
    "## Weekly Gym Traffic"
   ]
  },
  {
   "cell_type": "code",
   "execution_count": 6,
   "id": "12f4505d-f74a-4a77-b1bc-02f2dcb519d1",
   "metadata": {},
   "outputs": [
    {
     "data": {
      "application/vnd.jupyter.widget-view+json": {
       "model_id": "05cc5d47df154e1a914d87bc1f0fca4a",
       "version_major": 2,
       "version_minor": 0
      },
      "text/plain": [
       "interactive(children=(Dropdown(description='Facility:', options=('All', 'Bond Park Community Center', 'Herbert…"
      ]
     },
     "execution_count": 6,
     "metadata": {},
     "output_type": "execute_result"
    }
   ],
   "source": [
    "df2 = pd.read_csv('open_gym.csv')\n",
    "df2['open_gym_start'] = pd.to_datetime(df2['open_gym_start'])\n",
    "df2['gym_hour'] = df2['open_gym_start'].dt.hour\n",
    "df2['weekday'] = df2['open_gym_start'].dt.day_name()\n",
    "\n",
    "\n",
    "grouped_data = df2.groupby(['gym_hour', 'weekday', 'facility_title'])['total'].sum().reset_index()\n",
    "pivot_data = grouped_data.pivot_table(index=\"gym_hour\", columns=\"weekday\", values=\"total\", aggfunc='sum', fill_value=0)\n",
    "pivot_data = pivot_data[[\"Monday\", \"Tuesday\", \"Wednesday\", \"Thursday\", \"Friday\", \"Saturday\", \"Sunday\"]]\n",
    "\n",
    "hours_to_include = list(range(8, 20)) \n",
    "pivot_data_filtered = pivot_data.loc[hours_to_include]\n",
    "pivot_data_filtered.loc['20-23'] = pivot_data.loc[20:23].sum() \n",
    "\n",
    "hour_labels = [f\"{hour%12 or 12} {'AM' if hour < 12 else 'PM'}\" for hour in hours_to_include]\n",
    "hour_labels.append(\"8 PM - 12 AM\") \n",
    "pivot_data_filtered.index = hour_labels\n",
    "pivot_data_filtered = pivot_data_filtered.fillna(0)\n",
    "def plot_heatmap(facility='All'):\n",
    "    if facility == 'All':\n",
    "        heatmap_data = grouped_data.groupby(['gym_hour', 'weekday'])['total'].sum().reset_index()\n",
    "    else:\n",
    "        heatmap_data = grouped_data[grouped_data['facility_title'] == facility].groupby(['gym_hour', 'weekday'])['total'].sum().reset_index()\n",
    "        \n",
    "    pivot_data = heatmap_data.pivot(index=\"gym_hour\", columns=\"weekday\", values=\"total\")\n",
    "    pivot_data = pivot_data.reindex(range(0, 24), fill_value=0)  \n",
    "    \n",
    "    pivot_data = pivot_data[[\"Monday\", \"Tuesday\", \"Wednesday\", \"Thursday\", \"Friday\", \"Saturday\", \"Sunday\"]]\n",
    "    \n",
    "    hours_to_include = list(range(8, 20))  # from 8 AM to 7 PM\n",
    "    pivot_data_filtered = pivot_data.loc[hours_to_include]\n",
    "    pivot_data_filtered.loc['20-23'] = pivot_data.loc[20:23].sum()  \n",
    "    \n",
    "    hour_labels = [f\"{hour%12 or 12} {'AM' if hour < 12 else 'PM'}\" for hour in hours_to_include]\n",
    "    hour_labels.append(\"8 PM - 12 AM\")  \n",
    "    pivot_data_filtered.index = hour_labels\n",
    "    pivot_data_filtered = pivot_data_filtered.fillna(0)\n",
    "\n",
    "    cubehelix_cmap = sns.cubehelix_palette(start=.5, rot=-.5, as_cmap=True)\n",
    "    \n",
    "    plt.figure(figsize=(12, 7))\n",
    "    sns.heatmap(data=pivot_data_filtered, cmap= cubehelix_cmap, cbar_kws={'label': 'Activity Level'}, linewidths=.5)\n",
    "\n",
    "    \n",
    "    plt.title(f'Gym Usage Heatmap by Hour and Day of Week ({facility})')\n",
    "    plt.ylabel('Hour of Day', size = 12)\n",
    "    plt.yticks(ticks=range(len(pivot_data_filtered.index)), labels=pivot_data_filtered.index, va=\"top\")\n",
    "    plt.xlabel('Day of Week', labelpad=18, size = 12)\n",
    "    plt.show()\n",
    "\n",
    "\n",
    "facilities_dropdown = widgets.Dropdown(\n",
    "    options=['All'] + list(df2['facility_title'].unique()),\n",
    "    value='All',\n",
    "    description='Facility:'\n",
    ")\n",
    "\n",
    "widgets.interactive(plot_heatmap, facility=facilities_dropdown)\n"
   ]
  },
  {
   "cell_type": "markdown",
   "id": "c66d85f3-6063-49bc-a631-1940d787ed27",
   "metadata": {},
   "source": [
    "## Activity Trends Timeline"
   ]
  },
  {
   "cell_type": "code",
   "execution_count": 7,
   "id": "6d04175f-248a-4156-ae5e-ac3ef78c3856",
   "metadata": {},
   "outputs": [
    {
     "data": {
      "application/vnd.jupyter.widget-view+json": {
       "model_id": "41bb90b9114f4d79ae32b9db6ab63298",
       "version_major": 2,
       "version_minor": 0
      },
      "text/plain": [
       "Dropdown(description='Activity:', options=('Badminton', 'Basketball', 'Homeschool', 'Open Gym', 'Open Studio',…"
      ]
     },
     "metadata": {},
     "output_type": "display_data"
    },
    {
     "data": {
      "application/vnd.jupyter.widget-view+json": {
       "model_id": "a52989a1861d428197eb6341789f26ad",
       "version_major": 2,
       "version_minor": 0
      },
      "text/plain": [
       "Output()"
      ]
     },
     "metadata": {},
     "output_type": "display_data"
    }
   ],
   "source": [
    "\n",
    "df1 = pd.read_csv('open_gym.csv')\n",
    "df1['open_gym_start'] = pd.to_datetime(df1['open_gym_start'])\n",
    "df1['year'] = df1['open_gym_start'].dt.year\n",
    "grouped = df1.groupby(['open_gym_activity', 'year'])['total'].sum().reset_index()\n",
    "\n",
    "\n",
    "def plot_data(activity):\n",
    "    filtered_data = grouped[grouped['open_gym_activity'] == activity]\n",
    "    X = filtered_data['year'].astype(int).values.reshape(-1, 1)\n",
    "    y = filtered_data['total'].values\n",
    "    reg = LinearRegression().fit(X, y)\n",
    "    y_pred = reg.predict(X)\n",
    "\n",
    "    plt.figure(figsize=(10, 6))\n",
    "    custom_palette = sns.color_palette(\"coolwarm\")\n",
    "    sns.set_palette(custom_palette)\n",
    "    sns.set_style(\"darkgrid\")\n",
    "    \n",
    "    sns.scatterplot(data=filtered_data, x='year', y='total', label='Actual Attendance', s=100)\n",
    "    plt.plot(filtered_data['year'], y_pred, color='red', label='Trend Line', linestyle='--')\n",
    "    plt.title(f'Trends in {activity} Attendance Over Time', fontsize=16)\n",
    "    plt.xlabel('Year', fontsize=12)\n",
    "    plt.ylabel('Total Attendance', fontsize=12)\n",
    "    plt.legend(title='Legend', fontsize=9, title_fontsize=12, loc='upper left')\n",
    "    plt.tight_layout()\n",
    "    plt.show()\n",
    "\n",
    "activity_dropdown = widgets.Dropdown(\n",
    "    options=sorted(grouped['open_gym_activity'].unique()),\n",
    "    description='Activity:',\n",
    "    value=sorted(grouped['open_gym_activity'].unique())[0], \n",
    "    disabled=False,\n",
    ")\n",
    "\n",
    "plot_output = widgets.Output()\n",
    "def update_plot(change):\n",
    "    activity = change['new'] \n",
    "    with plot_output:\n",
    "        plot_output.clear_output(wait=True) \n",
    "        plot_data(activity)  \n",
    "\n",
    "activity_dropdown.observe(update_plot, names='value')\n",
    "display(activity_dropdown, plot_output)\n",
    "\n",
    "with plot_output:\n",
    "    plot_data(activity_dropdown.value)"
   ]
  },
  {
   "cell_type": "markdown",
   "id": "abf7af18-0bc9-404b-bc20-e97b45af99d6",
   "metadata": {},
   "source": [
    "## Attribution\n",
    "- https://pandas.pydata.org/pandas-docs/stable/reference/api/pandas.Series.dt.to_period.html\n",
    "- https://pandas.pydata.org/pandas-docs/stable/reference/api/pandas.DataFrame.pivot.html\n",
    "- https://seaborn.pydata.org/tutorial/introduction.html\n",
    "- https://ipywidgets.readthedocs.io/en/stable/examples/Widget%20Basics.html\n",
    "- ChatGPT for syntax finding and debiging"
   ]
  },
  {
   "cell_type": "code",
   "execution_count": null,
   "id": "73dcd8e4-ad35-4411-9d27-a1fbb9301634",
   "metadata": {},
   "outputs": [],
   "source": []
  }
 ],
 "metadata": {
  "kernelspec": {
   "display_name": "Python 3 (ipykernel)",
   "language": "python",
   "name": "python3"
  },
  "language_info": {
   "codemirror_mode": {
    "name": "ipython",
    "version": 3
   },
   "file_extension": ".py",
   "mimetype": "text/x-python",
   "name": "python",
   "nbconvert_exporter": "python",
   "pygments_lexer": "ipython3",
   "version": "3.11.5"
  }
 },
 "nbformat": 4,
 "nbformat_minor": 5
}
